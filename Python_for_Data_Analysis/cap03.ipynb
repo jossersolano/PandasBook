{
 "cells": [
  {
   "cell_type": "markdown",
   "id": "39a5eaa9-902d-44f5-a2d3-571f69ee1469",
   "metadata": {},
   "source": [
    "# 03"
   ]
  },
  {
   "cell_type": "markdown",
   "id": "70a22e75-be62-46ec-ac2f-5d73d6827e82",
   "metadata": {},
   "source": [
    "- Tupla"
   ]
  },
  {
   "cell_type": "code",
   "execution_count": 1,
   "id": "47d708e2-3de6-4009-9e5b-094a8563a060",
   "metadata": {},
   "outputs": [],
   "source": [
    "tup = 4,5,6"
   ]
  },
  {
   "cell_type": "code",
   "execution_count": 2,
   "id": "1222ca0a-70b9-4065-b8e7-ca2eab31f8f6",
   "metadata": {},
   "outputs": [
    {
     "data": {
      "text/plain": [
       "(4, 5, 6)"
      ]
     },
     "execution_count": 2,
     "metadata": {},
     "output_type": "execute_result"
    }
   ],
   "source": [
    "tup"
   ]
  },
  {
   "cell_type": "code",
   "execution_count": 3,
   "id": "73769b87-05f8-4c5a-b10d-1e4547a8e5da",
   "metadata": {},
   "outputs": [],
   "source": [
    "tup2 = tuple(\"string\")"
   ]
  },
  {
   "cell_type": "code",
   "execution_count": 4,
   "id": "7c02f27b-5be6-4478-a9f6-237be5160cd4",
   "metadata": {},
   "outputs": [
    {
     "data": {
      "text/plain": [
       "('s', 't', 'r', 'i', 'n', 'g')"
      ]
     },
     "execution_count": 4,
     "metadata": {},
     "output_type": "execute_result"
    }
   ],
   "source": [
    "tup2"
   ]
  },
  {
   "cell_type": "code",
   "execution_count": 5,
   "id": "ef559b6d-8b23-4127-b21b-00f19d1f1134",
   "metadata": {},
   "outputs": [],
   "source": [
    "tuplas = (4,5,6),(7,8)"
   ]
  },
  {
   "cell_type": "code",
   "execution_count": 6,
   "id": "b70da4ce-9d4c-4bd2-a0fe-d5beec582cfb",
   "metadata": {},
   "outputs": [
    {
     "data": {
      "text/plain": [
       "((4, 5, 6), (7, 8))"
      ]
     },
     "execution_count": 6,
     "metadata": {},
     "output_type": "execute_result"
    }
   ],
   "source": [
    "tuplas"
   ]
  },
  {
   "cell_type": "code",
   "execution_count": 7,
   "id": "a46bf887-aa21-4e11-8f1d-2ef54068e963",
   "metadata": {},
   "outputs": [],
   "source": [
    "values = 1,2,3,4,5"
   ]
  },
  {
   "cell_type": "code",
   "execution_count": 8,
   "id": "6887f2a2-a528-43a3-8469-bda5378bfc2a",
   "metadata": {},
   "outputs": [],
   "source": [
    "a,b,*rest = values"
   ]
  },
  {
   "cell_type": "code",
   "execution_count": 9,
   "id": "50e006e2-3cb4-4c19-8c3f-b3191f1da8c3",
   "metadata": {},
   "outputs": [
    {
     "data": {
      "text/plain": [
       "1"
      ]
     },
     "execution_count": 9,
     "metadata": {},
     "output_type": "execute_result"
    }
   ],
   "source": [
    "a"
   ]
  },
  {
   "cell_type": "code",
   "execution_count": 10,
   "id": "62086efd-6bb1-4b4a-b782-97b58a813a09",
   "metadata": {},
   "outputs": [
    {
     "data": {
      "text/plain": [
       "2"
      ]
     },
     "execution_count": 10,
     "metadata": {},
     "output_type": "execute_result"
    }
   ],
   "source": [
    "b"
   ]
  },
  {
   "cell_type": "code",
   "execution_count": 11,
   "id": "81558f4e-59f2-41bc-bccb-a6b96580c323",
   "metadata": {},
   "outputs": [
    {
     "data": {
      "text/plain": [
       "[3, 4, 5]"
      ]
     },
     "execution_count": 11,
     "metadata": {},
     "output_type": "execute_result"
    }
   ],
   "source": [
    "rest"
   ]
  },
  {
   "cell_type": "code",
   "execution_count": 12,
   "id": "ee6ffe50-490f-44a5-bdf9-f17524ffd319",
   "metadata": {},
   "outputs": [
    {
     "data": {
      "text/plain": [
       "(1, 2, 3, 4, 5)"
      ]
     },
     "execution_count": 12,
     "metadata": {},
     "output_type": "execute_result"
    }
   ],
   "source": [
    "values"
   ]
  },
  {
   "cell_type": "code",
   "execution_count": 13,
   "id": "41595032-b553-48d1-bc07-d4f556a9b161",
   "metadata": {},
   "outputs": [
    {
     "ename": "ValueError",
     "evalue": "too many values to unpack (expected 2)",
     "output_type": "error",
     "traceback": [
      "\u001b[31m---------------------------------------------------------------------------\u001b[39m",
      "\u001b[31mValueError\u001b[39m                                Traceback (most recent call last)",
      "\u001b[36mCell\u001b[39m\u001b[36m \u001b[39m\u001b[32mIn[13]\u001b[39m\u001b[32m, line 1\u001b[39m\n\u001b[32m----> \u001b[39m\u001b[32m1\u001b[39m c,d = values\n",
      "\u001b[31mValueError\u001b[39m: too many values to unpack (expected 2)"
     ]
    }
   ],
   "source": [
    "c,d = values"
   ]
  },
  {
   "cell_type": "code",
   "execution_count": 14,
   "id": "c1225cdd-de40-4fdf-b4cd-cd347999da4a",
   "metadata": {},
   "outputs": [],
   "source": [
    "a = (1, 2, 2, 2, 3, 4, 2)"
   ]
  },
  {
   "cell_type": "code",
   "execution_count": 15,
   "id": "e399526c-eeee-490d-b0ef-07b96ca7d3a6",
   "metadata": {},
   "outputs": [
    {
     "data": {
      "text/plain": [
       "4"
      ]
     },
     "execution_count": 15,
     "metadata": {},
     "output_type": "execute_result"
    }
   ],
   "source": [
    "a.count(2)"
   ]
  },
  {
   "cell_type": "markdown",
   "id": "594d2286-5012-4233-9f6f-e7c0d7d1ff4b",
   "metadata": {},
   "source": [
    "- Lista"
   ]
  },
  {
   "cell_type": "code",
   "execution_count": 17,
   "id": "1f242c47-5261-4089-85cb-bc9e5653bf23",
   "metadata": {},
   "outputs": [
    {
     "data": {
      "text/plain": [
       "[4, None, 'foo', 7, 8, (2, 3)]"
      ]
     },
     "execution_count": 17,
     "metadata": {},
     "output_type": "execute_result"
    }
   ],
   "source": [
    "# Antes de \n",
    "[4, None, \"foo\"] + [7, 8, (2, 3)]"
   ]
  },
  {
   "cell_type": "code",
   "execution_count": 20,
   "id": "abd031b9-22e5-4a57-b4e9-8c5673ab2009",
   "metadata": {},
   "outputs": [
    {
     "data": {
      "text/plain": [
       "[4, None, 'foo', 7, 8, (2, 3)]"
      ]
     },
     "execution_count": 20,
     "metadata": {},
     "output_type": "execute_result"
    }
   ],
   "source": [
    "# mejor\n",
    "x = [4, None, \"foo\"]\n",
    "x.extend([ 7, 8, (2, 3)])\n",
    "x"
   ]
  },
  {
   "cell_type": "markdown",
   "id": "861b2e95-c89e-4cfc-a26b-9ca032cbf266",
   "metadata": {},
   "source": [
    "Mejor:\n",
    "\n",
    "```python\n",
    "everything = []\n",
    "for chunk in list_of_lists:\n",
    "    everything.extend( chunk)\n",
    "```\n",
    "Que:\n",
    "```python\n",
    "everything = []\n",
    "for chunk in list_of_lists:\n",
    "    everything = everything + chunk\n",
    "```"
   ]
  },
  {
   "cell_type": "code",
   "execution_count": 22,
   "id": "800c464b-5792-4613-afb9-19ff04f97008",
   "metadata": {},
   "outputs": [
    {
     "name": "stdout",
     "output_type": "stream",
     "text": [
      "[1, 2, 3, 5, 7]\n",
      "['He', 'saw', 'six', 'small', 'foxes']\n"
     ]
    }
   ],
   "source": [
    "# Para ordenar puede simple\n",
    "a = [7, 2, 5, 1, 3]\n",
    "a.sort()\n",
    "print(a)\n",
    "\n",
    "# O por una clave de ordenacion secundaria, por ejemplo usando la longitud\n",
    "b = [\"saw\", \"small\", \"He\", \"foxes\", \"six\"]\n",
    "b.sort( key = len)\n",
    "print(b)"
   ]
  },
  {
   "cell_type": "code",
   "execution_count": 26,
   "id": "afc1699c-d1bd-4a2c-bb31-81ddac16a399",
   "metadata": {},
   "outputs": [
    {
     "data": {
      "text/plain": [
       "['o']"
      ]
     },
     "execution_count": 26,
     "metadata": {},
     "output_type": "execute_result"
    }
   ],
   "source": [
    "h = list(\"hello\")\n",
    "h[-1:]"
   ]
  },
  {
   "attachments": {
    "af146c42-661c-40a0-b773-9708e92bdedf.png": {
     "image/png": "[encoded data removed]"
    }
   },
   "cell_type": "markdown",
   "id": "ca93dd55-de4a-4c04-b411-35c5468f5f66",
   "metadata": {},
   "source": [
    "!![image.png](attachment:af146c42-661c-40a0-b773-9708e92bdedf.png)"
   ]
  },
  {
   "cell_type": "code",
   "execution_count": 27,
   "id": "98d46df8-08c7-42ee-8571-8bb8fee1e24a",
   "metadata": {},
   "outputs": [
    {
     "name": "stdout",
     "output_type": "stream",
     "text": [
      "[4, None, 'foo', 7, 8, (2, 3)]\n"
     ]
    },
    {
     "data": {
      "text/plain": [
       "[(2, 3), 8, 7, 'foo', None, 4]"
      ]
     },
     "execution_count": 27,
     "metadata": {},
     "output_type": "execute_result"
    }
   ],
   "source": [
    "print(x)\n",
    "x[::-1]"
   ]
  },
  {
   "cell_type": "markdown",
   "id": "e14c458d-12f6-4efd-b8b6-ab61763f7a15",
   "metadata": {},
   "source": [
    "- Diccionario"
   ]
  },
  {
   "cell_type": "code",
   "execution_count": 34,
   "id": "8f76449c-aba7-47f0-804f-dcc88870d4bd",
   "metadata": {},
   "outputs": [
    {
     "data": {
      "text/plain": [
       "<zip at 0x1fdce735a80>"
      ]
     },
     "execution_count": 34,
     "metadata": {},
     "output_type": "execute_result"
    }
   ],
   "source": [
    "tuples = zip(range(5), reversed(range(5)))\n",
    "tuples"
   ]
  },
  {
   "cell_type": "code",
   "execution_count": 35,
   "id": "2fd71f59-c88b-453a-9622-9c7b27f5f031",
   "metadata": {},
   "outputs": [
    {
     "data": {
      "text/plain": [
       "{0: 4, 1: 3, 2: 2, 3: 1, 4: 0}"
      ]
     },
     "execution_count": 35,
     "metadata": {},
     "output_type": "execute_result"
    }
   ],
   "source": [
    "mapping = dict(tuples)\n",
    "mapping"
   ]
  },
  {
   "cell_type": "code",
   "execution_count": 38,
   "id": "15165810-5ab1-48f8-9c50-23cf40521861",
   "metadata": {},
   "outputs": [
    {
     "data": {
      "text/plain": [
       "{'a': ['apple', 'atom'], 'b': ['bat', 'bar', 'book']}"
      ]
     },
     "execution_count": 38,
     "metadata": {},
     "output_type": "execute_result"
    }
   ],
   "source": [
    "words = [\"apple\", \"bat\", \"bar\", \"atom\", \"book\"]\n",
    "by_letter = {}\n",
    "for word in words:\n",
    "    letter = word[0]\n",
    "    if letter not in by_letter:\n",
    "        by_letter[letter]=[word]\n",
    "    else:\n",
    "        by_letter[letter].append(word)\n",
    "by_letter"
   ]
  },
  {
   "cell_type": "code",
   "execution_count": 39,
   "id": "ef6c4d87-2b3e-4310-af3d-015e73ae48e2",
   "metadata": {},
   "outputs": [
    {
     "data": {
      "text/plain": [
       "{'a': ['apple', 'atom'], 'b': ['bat', 'bar', 'book']}"
      ]
     },
     "execution_count": 39,
     "metadata": {},
     "output_type": "execute_result"
    }
   ],
   "source": [
    "words = [\"apple\", \"bat\", \"bar\", \"atom\", \"book\"]\n",
    "by_letter = {}\n",
    "for word in words:\n",
    "    letter = word[0]\n",
    "    by_letter.setdefault(letter, []).append(word)\n",
    "by_letter"
   ]
  },
  {
   "cell_type": "code",
   "execution_count": 43,
   "id": "f0188433-1e2e-4d63-89da-6b5c53d3ef5f",
   "metadata": {},
   "outputs": [
    {
     "data": {
      "text/plain": [
       "defaultdict(list, {'a': ['apple', 'atom'], 'b': ['bat', 'bar', 'book']})"
      ]
     },
     "execution_count": 43,
     "metadata": {},
     "output_type": "execute_result"
    }
   ],
   "source": [
    "from collections import defaultdict\n",
    "words = [\"apple\", \"bat\", \"bar\", \"atom\", \"book\"]\n",
    "by_letter = defaultdict(list)\n",
    "for word in words:\n",
    "    by_letter[word[0]].append(word)\n",
    "by_letter"
   ]
  },
  {
   "cell_type": "markdown",
   "id": "8d72fe86-bcbe-4574-b9b6-3b00f4f0d00d",
   "metadata": {},
   "source": [
    "- Conjunto"
   ]
  },
  {
   "cell_type": "code",
   "execution_count": 44,
   "id": "1fbb57c0-b278-43e9-93ed-b5e024afa240",
   "metadata": {},
   "outputs": [
    {
     "name": "stdout",
     "output_type": "stream",
     "text": [
      "{1, 2, 3, 4, 5, 6} {0, 6, 7, 8, 9}\n"
     ]
    }
   ],
   "source": [
    "a = set([1,2,3,4,5,6])\n",
    "b = {6,7,8,9,0}\n",
    "print(a, b)"
   ]
  },
  {
   "cell_type": "code",
   "execution_count": 46,
   "id": "e389d21b-dc01-42f3-94cb-5f13e4312aa3",
   "metadata": {},
   "outputs": [
    {
     "data": {
      "text/plain": [
       "{0, 1, 2, 3, 4, 5, 6, 7, 8, 9}"
      ]
     },
     "execution_count": 46,
     "metadata": {},
     "output_type": "execute_result"
    }
   ],
   "source": [
    "# a.union(b)\n",
    "a | b"
   ]
  },
  {
   "cell_type": "code",
   "execution_count": 48,
   "id": "5110c494-1c7f-46f3-add3-fc7b86ed8117",
   "metadata": {},
   "outputs": [
    {
     "data": {
      "text/plain": [
       "{6}"
      ]
     },
     "execution_count": 48,
     "metadata": {},
     "output_type": "execute_result"
    }
   ],
   "source": [
    "# a.intersection(b)\n",
    "a & b"
   ]
  },
  {
   "cell_type": "code",
   "execution_count": 49,
   "id": "9c60bedd-6dcd-444a-ab77-25907c9afa6d",
   "metadata": {},
   "outputs": [],
   "source": [
    "a|=b"
   ]
  },
  {
   "cell_type": "code",
   "execution_count": 50,
   "id": "8ed1ff4c-485d-4e91-b226-91fdbaa1c706",
   "metadata": {},
   "outputs": [
    {
     "data": {
      "text/plain": [
       "({0, 1, 2, 3, 4, 5, 6, 7, 8, 9}, {0, 6, 7, 8, 9})"
      ]
     },
     "execution_count": 50,
     "metadata": {},
     "output_type": "execute_result"
    }
   ],
   "source": [
    "a, b"
   ]
  },
  {
   "cell_type": "code",
   "execution_count": 51,
   "id": "07d6f75f-3df0-453a-b315-21c0bfbbd445",
   "metadata": {},
   "outputs": [
    {
     "data": {
      "text/plain": [
       "({0, 6, 7, 8, 9}, {0, 6, 7, 8, 9})"
      ]
     },
     "execution_count": 51,
     "metadata": {},
     "output_type": "execute_result"
    }
   ],
   "source": [
    "a&=b\n",
    "a,b"
   ]
  },
  {
   "cell_type": "code",
   "execution_count": null,
   "id": "9b088656-c76a-4405-9657-169a08a506ac",
   "metadata": {},
   "outputs": [],
   "source": []
  }
 ],
 "metadata": {
  "kernelspec": {
   "display_name": "Python 3 (ipykernel)",
   "language": "python",
   "name": "python3"
  },
  "language_info": {
   "codemirror_mode": {
    "name": "ipython",
    "version": 3
   },
   "file_extension": ".py",
   "mimetype": "text/x-python",
   "name": "python",
   "nbconvert_exporter": "python",
   "pygments_lexer": "ipython3",
   "version": "3.13.5"
  }
 },
 "nbformat": 4,
 "nbformat_minor": 5
}
