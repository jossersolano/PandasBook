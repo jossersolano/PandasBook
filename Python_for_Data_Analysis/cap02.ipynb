{
 "cells": [
  {
   "cell_type": "markdown",
   "id": "627c6b1f-404b-4829-9cb6-95a32c32115f",
   "metadata": {},
   "source": [
    "# 01"
   ]
  },
  {
   "cell_type": "markdown",
   "id": "ef6eaa40-f91d-48cb-b7bd-80b72b08c045",
   "metadata": {},
   "source": [
    "Recomendación de siempre usar:"
   ]
  },
  {
   "cell_type": "code",
   "execution_count": 3,
   "id": "c9385533-756d-49fc-ab67-08d6ff4f6820",
   "metadata": {},
   "outputs": [],
   "source": [
    "import pandas as pd\n",
    "import numpy as np\n",
    "pd.options.display.max_columns=20\n",
    "pd.options.display.max_rows=20\n",
    "pd.options.display.max_colwidth=80\n",
    "np.set_printoptions(precision=4, suppress=True)"
   ]
  },
  {
   "cell_type": "markdown",
   "id": "6e4d6d73-5d72-40cc-9a51-1caaca2c5912",
   "metadata": {},
   "source": [
    "# 02"
   ]
  },
  {
   "cell_type": "raw",
   "id": "e750b77a-14f5-4e9e-b3e7-763060944693",
   "metadata": {},
   "source": [
    "import numpy as np"
   ]
  },
  {
   "cell_type": "code",
   "execution_count": 6,
   "id": "3802b2fb-5f45-4f0f-84f6-232f6897003c",
   "metadata": {},
   "outputs": [],
   "source": [
    "data = [np.random.standard_normal() for i in range(7)]"
   ]
  },
  {
   "cell_type": "code",
   "execution_count": 7,
   "id": "f9ce6332-41c6-4916-bafe-eb640380ca4e",
   "metadata": {},
   "outputs": [
    {
     "data": {
      "text/plain": [
       "[0.9284081786472311,\n",
       " 0.8475528196484142,\n",
       " 0.4205616042833094,\n",
       " 0.33184672732068815,\n",
       " -2.2237734062225756,\n",
       " -1.7561490031244549,\n",
       " 1.2928190446633032]"
      ]
     },
     "execution_count": 7,
     "metadata": {},
     "output_type": "execute_result"
    }
   ],
   "source": [
    "data"
   ]
  },
  {
   "cell_type": "code",
   "execution_count": 8,
   "id": "2a490a8f-46b9-453a-9f35-cbc39fcd6921",
   "metadata": {},
   "outputs": [],
   "source": [
    "b = [1, 2, 3]"
   ]
  },
  {
   "cell_type": "code",
   "execution_count": 9,
   "id": "be24dce3-35c0-4f62-bd93-571e6a5274a4",
   "metadata": {},
   "outputs": [
    {
     "data": {
      "text/plain": [
       "3"
      ]
     },
     "execution_count": 9,
     "metadata": {},
     "output_type": "execute_result"
    }
   ],
   "source": [
    "b.pop()"
   ]
  },
  {
   "cell_type": "markdown",
   "id": "5999ee34-b5f3-41c1-bc32-32e0c57824f7",
   "metadata": {},
   "source": [
    "- Para consulta el objeto"
   ]
  },
  {
   "cell_type": "code",
   "execution_count": 10,
   "id": "6ee73019-a48c-43e1-a7fb-eb7162827077",
   "metadata": {},
   "outputs": [
    {
     "data": {
      "text/plain": [
       "\u001b[31mType:\u001b[39m        list\n",
       "\u001b[31mString form:\u001b[39m [1, 2]\n",
       "\u001b[31mLength:\u001b[39m      2\n",
       "\u001b[31mDocstring:\u001b[39m  \n",
       "Built-in mutable sequence.\n",
       "\n",
       "If no argument is given, the constructor creates a new empty list.\n",
       "The argument must be an iterable if specified."
      ]
     },
     "metadata": {},
     "output_type": "display_data"
    }
   ],
   "source": [
    "b?"
   ]
  },
  {
   "cell_type": "markdown",
   "id": "16924ad7-bca5-4ae4-befe-2569c66567ca",
   "metadata": {},
   "source": [
    "- Para consultar el método"
   ]
  },
  {
   "cell_type": "code",
   "execution_count": 11,
   "id": "cdb8ea0f-d48d-4668-8d0b-04ce178bb3f9",
   "metadata": {},
   "outputs": [
    {
     "data": {
      "text/plain": [
       "\u001b[31mSignature:\u001b[39m print(*args, sep=\u001b[33m' '\u001b[39m, end=\u001b[33m'\\n'\u001b[39m, file=\u001b[38;5;28;01mNone\u001b[39;00m, flush=\u001b[38;5;28;01mFalse\u001b[39;00m)\n",
       "\u001b[31mDocstring:\u001b[39m\n",
       "Prints the values to a stream, or to sys.stdout by default.\n",
       "\n",
       "sep\n",
       "  string inserted between values, default a space.\n",
       "end\n",
       "  string appended after the last value, default a newline.\n",
       "file\n",
       "  a file-like object (stream); defaults to the current sys.stdout.\n",
       "flush\n",
       "  whether to forcibly flush the stream.\n",
       "\u001b[31mType:\u001b[39m      builtin_function_or_method"
      ]
     },
     "metadata": {},
     "output_type": "display_data"
    }
   ],
   "source": [
    "print?"
   ]
  },
  {
   "cell_type": "markdown",
   "id": "475bda29-b9e3-4974-8947-570581dfe2a4",
   "metadata": {},
   "source": [
    "- Para consultar la función"
   ]
  },
  {
   "cell_type": "code",
   "execution_count": 14,
   "id": "1d94d780-3e13-4160-84b4-c720ff03c229",
   "metadata": {},
   "outputs": [],
   "source": [
    "def add_numbers(a,b):\n",
    "    \"\"\"\n",
    "    Add two numbers together\n",
    "    Returns\n",
    "    -------\n",
    "    the_sum: type of arguments\n",
    "    \"\"\"\n",
    "    return a + b"
   ]
  },
  {
   "cell_type": "code",
   "execution_count": 15,
   "id": "360c66a2-cb6d-4d79-9296-a1c864700a6d",
   "metadata": {},
   "outputs": [
    {
     "data": {
      "text/plain": [
       "\u001b[31mSignature:\u001b[39m add_numbers(a, b)\n",
       "\u001b[31mDocstring:\u001b[39m\n",
       "Add two numbers together\n",
       "Returns\n",
       "-------\n",
       "the_sum: type of arguments\n",
       "\u001b[31mFile:\u001b[39m      c:\\users\\joser\\appdata\\local\\temp\\ipykernel_25596\\3277901376.py\n",
       "\u001b[31mType:\u001b[39m      function"
      ]
     },
     "metadata": {},
     "output_type": "display_data"
    }
   ],
   "source": [
    "add_numbers?"
   ]
  },
  {
   "cell_type": "markdown",
   "id": "aa0d850a-4af0-4d6a-9cb2-832f9fed7057",
   "metadata": {},
   "source": [
    "- Para consultar metodos, funciones u otros de la libreria"
   ]
  },
  {
   "cell_type": "code",
   "execution_count": 16,
   "id": "a8903960-57e6-4490-b2f9-97dde26e4731",
   "metadata": {},
   "outputs": [
    {
     "data": {
      "text/plain": [
       "np.__loader__\n",
       "np.load\n",
       "np.loadtxt"
      ]
     },
     "metadata": {},
     "output_type": "display_data"
    }
   ],
   "source": [
    "np.*load*?"
   ]
  },
  {
   "cell_type": "code",
   "execution_count": 18,
   "id": "1ce0678b-5363-4b2a-b1b6-3cda3ff4662e",
   "metadata": {},
   "outputs": [
    {
     "data": {
      "text/plain": [
       "pd.read_clipboard\n",
       "pd.read_csv\n",
       "pd.read_excel\n",
       "pd.read_feather\n",
       "pd.read_fwf\n",
       "pd.read_gbq\n",
       "pd.read_hdf\n",
       "pd.read_html\n",
       "pd.read_json\n",
       "pd.read_orc\n",
       "pd.read_parquet\n",
       "pd.read_pickle\n",
       "pd.read_sas\n",
       "pd.read_spss\n",
       "pd.read_sql\n",
       "pd.read_sql_query\n",
       "pd.read_sql_table\n",
       "pd.read_stata\n",
       "pd.read_table\n",
       "pd.read_xml"
      ]
     },
     "metadata": {},
     "output_type": "display_data"
    }
   ],
   "source": [
    "pd.*read*?"
   ]
  },
  {
   "cell_type": "markdown",
   "id": "6d010af7-e1ab-4898-9ab3-401e35bdbb50",
   "metadata": {},
   "source": [
    "- hay varias maneras de consultar documentación:\n",
    "\n",
    "pd.read_csv?\n",
    "\n",
    "pd.read_csv??\n",
    "\n",
    "pd.read_csv(`Shift + Tab`\n",
    "\n",
    "help(pd.read_csv)"
   ]
  },
  {
   "cell_type": "code",
   "execution_count": 19,
   "id": "3533a24b-038e-4e5e-92d5-fbbaa085f10d",
   "metadata": {},
   "outputs": [],
   "source": [
    "def append_element(some_list, element):\n",
    "    some_list.append(element)"
   ]
  },
  {
   "cell_type": "code",
   "execution_count": 20,
   "id": "11431092-d235-446b-af59-21b6697bea81",
   "metadata": {},
   "outputs": [],
   "source": [
    "data = [1,2,3]"
   ]
  },
  {
   "cell_type": "code",
   "execution_count": 21,
   "id": "816d089b-2c0d-483f-a6c9-59587b25fee1",
   "metadata": {},
   "outputs": [],
   "source": [
    "append_element(data,4)"
   ]
  },
  {
   "cell_type": "code",
   "execution_count": 22,
   "id": "e005847c-0ba5-49d1-977a-3e3bc888a1d4",
   "metadata": {},
   "outputs": [
    {
     "data": {
      "text/plain": [
       "[1, 2, 3, 4]"
      ]
     },
     "execution_count": 22,
     "metadata": {},
     "output_type": "execute_result"
    }
   ],
   "source": [
    "data"
   ]
  },
  {
   "cell_type": "markdown",
   "id": "12c38e7c-25bc-4a1c-bedd-13a6bee6ea37",
   "metadata": {},
   "source": [
    "- valora el `isinstance()`"
   ]
  },
  {
   "cell_type": "code",
   "execution_count": 23,
   "id": "857ba618-f2a5-476e-a6ea-4caf289c32f8",
   "metadata": {},
   "outputs": [],
   "source": [
    "a=5"
   ]
  },
  {
   "cell_type": "code",
   "execution_count": 24,
   "id": "30564d14-fec9-4d27-a720-dd2b5041f96d",
   "metadata": {},
   "outputs": [
    {
     "data": {
      "text/plain": [
       "True"
      ]
     },
     "execution_count": 24,
     "metadata": {},
     "output_type": "execute_result"
    }
   ],
   "source": [
    "isinstance(a, int)"
   ]
  },
  {
   "cell_type": "code",
   "execution_count": 25,
   "id": "a86c2b53-157b-4409-9961-3c431f955ab5",
   "metadata": {},
   "outputs": [],
   "source": [
    "a = 5; b = 4.5"
   ]
  },
  {
   "cell_type": "code",
   "execution_count": 26,
   "id": "fbbedaaa-1673-4436-a7e3-6f49cd2d3b14",
   "metadata": {},
   "outputs": [
    {
     "data": {
      "text/plain": [
       "True"
      ]
     },
     "execution_count": 26,
     "metadata": {},
     "output_type": "execute_result"
    }
   ],
   "source": [
    "isinstance(a, (int, float))"
   ]
  },
  {
   "cell_type": "code",
   "execution_count": 27,
   "id": "4e7975e2-1a92-401b-83dd-64e1676235ed",
   "metadata": {},
   "outputs": [
    {
     "data": {
      "text/plain": [
       "True"
      ]
     },
     "execution_count": 27,
     "metadata": {},
     "output_type": "execute_result"
    }
   ],
   "source": [
    "isinstance(b, (int, float))"
   ]
  },
  {
   "cell_type": "code",
   "execution_count": 28,
   "id": "105b58fe-ba8e-4b43-8a3d-41326ce27708",
   "metadata": {},
   "outputs": [],
   "source": [
    "a = \"foo\""
   ]
  },
  {
   "cell_type": "code",
   "execution_count": 29,
   "id": "cef2e29e-e845-460c-9887-4f96e50dfdd4",
   "metadata": {},
   "outputs": [
    {
     "data": {
      "text/plain": [
       "'foo'"
      ]
     },
     "execution_count": 29,
     "metadata": {},
     "output_type": "execute_result"
    }
   ],
   "source": [
    "a.casefold()"
   ]
  },
  {
   "cell_type": "markdown",
   "id": "64bd26be-9004-41e8-9928-67f0f0b37072",
   "metadata": {},
   "source": [
    "- Ten en cuenta el `getattr()` como obtener atributos y los otros"
   ]
  },
  {
   "cell_type": "code",
   "execution_count": 34,
   "id": "25cc0858-9410-40c2-af05-4d356fc09896",
   "metadata": {},
   "outputs": [
    {
     "data": {
      "text/plain": [
       "<function str.split(sep=None, maxsplit=-1)>"
      ]
     },
     "execution_count": 34,
     "metadata": {},
     "output_type": "execute_result"
    }
   ],
   "source": [
    "getattr(a, \"split\")"
   ]
  },
  {
   "cell_type": "code",
   "execution_count": 35,
   "id": "941c9782-718d-4faf-b398-4bb8efe69a74",
   "metadata": {},
   "outputs": [
    {
     "data": {
      "text/plain": [
       "<function str.casefold()>"
      ]
     },
     "execution_count": 35,
     "metadata": {},
     "output_type": "execute_result"
    }
   ],
   "source": [
    "getattr(a, \"casefold\")"
   ]
  },
  {
   "cell_type": "code",
   "execution_count": 36,
   "id": "e9b239c2-ad79-4787-82c8-4c1387058bcd",
   "metadata": {},
   "outputs": [
    {
     "data": {
      "text/plain": [
       "\u001b[31mSignature:\u001b[39m hasattr(obj, name, /)\n",
       "\u001b[31mDocstring:\u001b[39m\n",
       "Return whether the object has an attribute with the given name.\n",
       "\n",
       "This is done by calling getattr(obj, name) and catching AttributeError.\n",
       "\u001b[31mType:\u001b[39m      builtin_function_or_method"
      ]
     },
     "metadata": {},
     "output_type": "display_data"
    }
   ],
   "source": [
    "hasattr?"
   ]
  },
  {
   "cell_type": "code",
   "execution_count": 37,
   "id": "e5250c65-c7ae-4e3b-a0b6-c4800a17898e",
   "metadata": {},
   "outputs": [
    {
     "data": {
      "text/plain": [
       "\u001b[31mSignature:\u001b[39m setattr(obj, name, value, /)\n",
       "\u001b[31mDocstring:\u001b[39m\n",
       "Sets the named attribute on the given object to the specified value.\n",
       "\n",
       "setattr(x, 'y', v) is equivalent to ``x.y = v``\n",
       "\u001b[31mType:\u001b[39m      builtin_function_or_method"
      ]
     },
     "metadata": {},
     "output_type": "display_data"
    }
   ],
   "source": [
    "setattr?"
   ]
  },
  {
   "cell_type": "markdown",
   "id": "1afa505c-c651-4f25-b2ff-988058fec0b6",
   "metadata": {},
   "source": [
    "- el `iter(objeto)`"
   ]
  },
  {
   "cell_type": "code",
   "execution_count": 38,
   "id": "6eef4acd-b4eb-4187-9c09-b0b2c4a45c9b",
   "metadata": {},
   "outputs": [],
   "source": [
    "def isiterable(obj):\n",
    "    try:\n",
    "        iter(obj)\n",
    "        return True\n",
    "    except TypeError: # no iterable\n",
    "        return False"
   ]
  },
  {
   "cell_type": "code",
   "execution_count": 39,
   "id": "40aa28ed-8a9d-4abc-9b5f-a10556a54237",
   "metadata": {},
   "outputs": [
    {
     "data": {
      "text/plain": [
       "True"
      ]
     },
     "execution_count": 39,
     "metadata": {},
     "output_type": "execute_result"
    }
   ],
   "source": [
    "isiterable(\"a string\")"
   ]
  },
  {
   "cell_type": "code",
   "execution_count": 40,
   "id": "fb1c3f8c-ee28-46fe-b7d3-6828b6956ada",
   "metadata": {},
   "outputs": [
    {
     "data": {
      "text/plain": [
       "True"
      ]
     },
     "execution_count": 40,
     "metadata": {},
     "output_type": "execute_result"
    }
   ],
   "source": [
    "isiterable(a)"
   ]
  },
  {
   "cell_type": "code",
   "execution_count": 41,
   "id": "275bb6c8-45fe-4f24-9783-3970dbb88ce6",
   "metadata": {},
   "outputs": [
    {
     "data": {
      "text/plain": [
       "False"
      ]
     },
     "execution_count": 41,
     "metadata": {},
     "output_type": "execute_result"
    }
   ],
   "source": [
    "isiterable(5)"
   ]
  },
  {
   "cell_type": "markdown",
   "id": "e3ef31a4-c311-49d0-a3a3-aca90c33ba6d",
   "metadata": {},
   "source": [
    "- Division de piso //, módulo resto %"
   ]
  },
  {
   "cell_type": "code",
   "execution_count": 42,
   "id": "5803f7cf-1769-4629-a8bc-ce9c5a1c1c36",
   "metadata": {},
   "outputs": [
    {
     "data": {
      "text/plain": [
       "5"
      ]
     },
     "execution_count": 42,
     "metadata": {},
     "output_type": "execute_result"
    }
   ],
   "source": [
    "15//3"
   ]
  },
  {
   "cell_type": "code",
   "execution_count": 43,
   "id": "b2c4b32f-9387-4bc8-bac4-397d94cb6e6f",
   "metadata": {},
   "outputs": [
    {
     "data": {
      "text/plain": [
       "5"
      ]
     },
     "execution_count": 43,
     "metadata": {},
     "output_type": "execute_result"
    }
   ],
   "source": [
    "16//3"
   ]
  },
  {
   "cell_type": "code",
   "execution_count": 44,
   "id": "c15e3e6e-c4fe-41ad-bde0-0183f4a30e98",
   "metadata": {},
   "outputs": [
    {
     "data": {
      "text/plain": [
       "5"
      ]
     },
     "execution_count": 44,
     "metadata": {},
     "output_type": "execute_result"
    }
   ],
   "source": [
    "17//3"
   ]
  },
  {
   "cell_type": "code",
   "execution_count": 45,
   "id": "112c7a36-c465-4cd7-b58f-546f21eacba6",
   "metadata": {},
   "outputs": [
    {
     "data": {
      "text/plain": [
       "6"
      ]
     },
     "execution_count": 45,
     "metadata": {},
     "output_type": "execute_result"
    }
   ],
   "source": [
    "18//3"
   ]
  },
  {
   "cell_type": "code",
   "execution_count": 47,
   "id": "356589d8-f555-4a76-a0b3-ff29b927949b",
   "metadata": {},
   "outputs": [
    {
     "data": {
      "text/plain": [
       "2"
      ]
     },
     "execution_count": 47,
     "metadata": {},
     "output_type": "execute_result"
    }
   ],
   "source": [
    "17%3"
   ]
  },
  {
   "cell_type": "markdown",
   "id": "87f8751f-897c-49e4-a825-a9ed5c1e87a3",
   "metadata": {},
   "source": [
    "- Algo nuevo y extraño"
   ]
  },
  {
   "cell_type": "code",
   "execution_count": 49,
   "id": "6fa66471-f0ee-49ae-8b62-c6d610e6940d",
   "metadata": {},
   "outputs": [
    {
     "data": {
      "text/plain": [
       "True"
      ]
     },
     "execution_count": 49,
     "metadata": {},
     "output_type": "execute_result"
    }
   ],
   "source": [
    "4>3>2>1"
   ]
  },
  {
   "cell_type": "code",
   "execution_count": 50,
   "id": "ee6c6325-fdbf-453b-8db7-05650ef8120c",
   "metadata": {},
   "outputs": [
    {
     "data": {
      "text/plain": [
       "[]"
      ]
     },
     "execution_count": 50,
     "metadata": {},
     "output_type": "execute_result"
    }
   ],
   "source": [
    "list(range(5,0))"
   ]
  },
  {
   "cell_type": "code",
   "execution_count": 53,
   "id": "e33a6959-fd2c-4b77-9923-d548f141a206",
   "metadata": {},
   "outputs": [
    {
     "data": {
      "text/plain": [
       "[5, 4, 3, 2, 1]"
      ]
     },
     "execution_count": 53,
     "metadata": {},
     "output_type": "execute_result"
    }
   ],
   "source": [
    "list(range(5,0,-1))"
   ]
  },
  {
   "cell_type": "markdown",
   "id": "b3c3b2a8-b883-4e85-88ec-be140a5278fb",
   "metadata": {},
   "source": [
    "- Para tener en cuenta"
   ]
  },
  {
   "cell_type": "code",
   "execution_count": 51,
   "id": "1fd4de26-2097-4e00-82b1-3e2588252d48",
   "metadata": {},
   "outputs": [],
   "source": [
    "datos = [(1, 2, 3), (4, 5, 6), (7, 8, 9)]"
   ]
  },
  {
   "cell_type": "code",
   "execution_count": 52,
   "id": "15cd9322-9c21-4fa3-ae0e-7c7261e4a45d",
   "metadata": {},
   "outputs": [
    {
     "name": "stdout",
     "output_type": "stream",
     "text": [
      "a=1, b=2, c=3\n",
      "a=4, b=5, c=6\n",
      "a=7, b=8, c=9\n"
     ]
    }
   ],
   "source": [
    "for a, b, c in datos:\n",
    "    print(f\"a={a}, b={b}, c={c}\")"
   ]
  },
  {
   "cell_type": "code",
   "execution_count": null,
   "id": "a1852052-167a-40c8-b15c-b63bc6c1e9aa",
   "metadata": {},
   "outputs": [],
   "source": []
  }
 ],
 "metadata": {
  "kernelspec": {
   "display_name": "Python 3 (ipykernel)",
   "language": "python",
   "name": "python3"
  },
  "language_info": {
   "codemirror_mode": {
    "name": "ipython",
    "version": 3
   },
   "file_extension": ".py",
   "mimetype": "text/x-python",
   "name": "python",
   "nbconvert_exporter": "python",
   "pygments_lexer": "ipython3",
   "version": "3.13.5"
  }
 },
 "nbformat": 4,
 "nbformat_minor": 5
}
